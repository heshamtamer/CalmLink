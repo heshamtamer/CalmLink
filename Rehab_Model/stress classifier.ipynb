{
 "cells": [
  {
   "cell_type": "code",
   "execution_count": 1,
   "id": "05e5a5d1",
   "metadata": {},
   "outputs": [],
   "source": [
    "import numpy as np\n",
    "import pandas as pd\n",
    "from sklearn.model_selection import train_test_split\n",
    "from sklearn.metrics import accuracy_score\n",
    "from sklearn.impute import SimpleImputer\n",
    "from sklearn.preprocessing import StandardScaler\n",
    "from sklearn.pipeline import Pipeline\n",
    "\n",
    "from sklearn.model_selection import cross_val_score\n",
    "from sklearn.ensemble import RandomForestClassifier\n",
    "import matplotlib.pyplot as plt\n",
    "import seaborn as sns\n",
    "from fastapi import FastAPI\n",
    "from pydantic import BaseModel"
   ]
  },
  {
   "cell_type": "code",
   "execution_count": 2,
   "id": "3952e043",
   "metadata": {},
   "outputs": [],
   "source": [
    "# Load the processed features\n",
    "df = pd.read_csv('processed_features.csv')\n",
    "\n",
    "# Drop rows with missing stress levels\n",
    "df = df.dropna(subset=['stress_level'])\n",
    "\n",
    "# Select important features based on domain knowledge\n",
    "feature_columns = [\n",
    "    # EDA features\n",
    "    'EDA_mean', 'EDA_std', 'EDA_kurtosis',\n",
    "    # HR features\n",
    "    'HR_mean', 'HR_std', 'HR_rms',\n",
    "    # TEMP features\n",
    "    'TEMP_mean', 'TEMP_std', 'TEMP_rms',\n",
    "    # BVP features\n",
    "    'BVP_mean', 'BVP_std', 'BVP_rms',\n",
    "    # ACC features\n",
    "    'ACC_mag_mean', 'ACC_mag_std',\n",
    "    # IBI features\n",
    "    'IBI_mean', 'IBI_std', 'IBI_rmssd'\n",
    "]\n",
    "\n"
   ]
  },
  {
   "cell_type": "code",
   "execution_count": 3,
   "id": "32f16b5b",
   "metadata": {},
   "outputs": [],
   "source": [
    "# Handle missing values using SimpleImputer\n",
    "imputer = SimpleImputer(strategy='mean')\n",
    "X = pd.DataFrame(imputer.fit_transform(df[feature_columns]), columns=feature_columns)\n",
    "y = df['stress_level']\n",
    "\n",
    "# Split the data\n",
    "X_train, X_test, y_train, y_test = train_test_split(X, y, test_size=0.2, random_state=42, stratify=y)\n"
   ]
  },
  {
   "cell_type": "code",
   "execution_count": 4,
   "id": "8d2520df",
   "metadata": {},
   "outputs": [],
   "source": [
    "model = RandomForestClassifier(\n",
    "       max_depth=10,\n",
    "       min_samples_split=5,\n",
    "       min_samples_leaf=2,\n",
    "       n_estimators=100,\n",
    "       random_state=42\n",
    "   )\n",
    "model.fit(X_train, y_train)\n",
    "traindata_predicted = model.predict(X_train)"
   ]
  },
  {
   "cell_type": "code",
   "execution_count": 5,
   "id": "5bf14208",
   "metadata": {},
   "outputs": [
    {
     "name": "stdout",
     "output_type": "stream",
     "text": [
      "Training Accuracy: 0.8799\n"
     ]
    }
   ],
   "source": [
    "# Calculate training data accuracy score\n",
    "train_accuracy = accuracy_score(y_train, traindata_predicted)\n",
    "print(f\"Training Accuracy: {train_accuracy:.4f}\")\n"
   ]
  },
  {
   "cell_type": "code",
   "execution_count": 6,
   "id": "a408b43e",
   "metadata": {},
   "outputs": [
    {
     "name": "stdout",
     "output_type": "stream",
     "text": [
      "testing Accuracy: 0.8652\n"
     ]
    }
   ],
   "source": [
    "testdata_predicted=model.predict(X_test)\n",
    "test_accuracy = accuracy_score(y_test,testdata_predicted)\n",
    "print(f\"testing Accuracy: {test_accuracy:.4f}\")"
   ]
  },
  {
   "cell_type": "code",
   "execution_count": 7,
   "id": "f1d306ad",
   "metadata": {},
   "outputs": [
    {
     "name": "stdout",
     "output_type": "stream",
     "text": [
      "Cross-validation scores: [0.85783238 0.86309785 0.86222027 0.85739359 0.86529179]\n",
      "Average CV score: 0.8612 (+/- 0.0061)\n"
     ]
    }
   ],
   "source": [
    "cv_scores = cross_val_score(model, X_train, y_train, cv=5)\n",
    "print(f\"Cross-validation scores: {cv_scores}\")\n",
    "print(f\"Average CV score: {cv_scores.mean():.4f} (+/- {cv_scores.std() * 2:.4f})\")"
   ]
  },
  {
   "cell_type": "code",
   "execution_count": 8,
   "id": "fab90bb5",
   "metadata": {},
   "outputs": [
    {
     "name": "stdout",
     "output_type": "stream",
     "text": [
      "Model saved as: stress_classifier_model.joblib\n",
      "Feature columns saved as: feature_columns.json\n",
      "Imputer saved as: imputer.joblib\n"
     ]
    }
   ],
   "source": [
    "# Save the trained model using joblib\n",
    "import joblib\n",
    "\n",
    "# Save the model\n",
    "model_filename = 'stress_classifier_model.joblib'\n",
    "joblib.dump(model, model_filename)\n",
    "\n",
    "# Save the feature columns names for future reference\n",
    "import json\n",
    "feature_columns_file = 'feature_columns.json'\n",
    "with open(feature_columns_file, 'w') as f:\n",
    "    json.dump(list(feature_columns), f)\n",
    "\n",
    "# Save the imputer for preprocessing new data\n",
    "imputer_filename = 'imputer.joblib'\n",
    "joblib.dump(imputer, imputer_filename)\n",
    "\n",
    "print(f\"Model saved as: {model_filename}\")\n",
    "print(f\"Feature columns saved as: {feature_columns_file}\")\n",
    "print(f\"Imputer saved as: {imputer_filename}\")\n"
   ]
  },
  {
   "cell_type": "code",
   "execution_count": null,
   "id": "3bc7ba7e",
   "metadata": {},
   "outputs": [],
   "source": []
  }
 ],
 "metadata": {
  "kernelspec": {
   "display_name": "venv",
   "language": "python",
   "name": "python3"
  },
  "language_info": {
   "codemirror_mode": {
    "name": "ipython",
    "version": 3
   },
   "file_extension": ".py",
   "mimetype": "text/x-python",
   "name": "python",
   "nbconvert_exporter": "python",
   "pygments_lexer": "ipython3",
   "version": "3.11.4"
  }
 },
 "nbformat": 4,
 "nbformat_minor": 5
}
